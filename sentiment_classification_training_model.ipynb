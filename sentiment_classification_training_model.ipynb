{
  "cells": [
    {
      "cell_type": "markdown",
      "metadata": {
        "id": "view-in-github",
        "colab_type": "text"
      },
      "source": [
        "<a href=\"https://colab.research.google.com/github/ngca1011/sentiment-classifier/blob/main/sentiment_classification_training_model.ipynb\" target=\"_parent\"><img src=\"https://colab.research.google.com/assets/colab-badge.svg\" alt=\"Open In Colab\"/></a>"
      ]
    },
    {
      "cell_type": "code",
      "execution_count": 1,
      "id": "273773f7-eb78-4bad-9bf3-196a32417645",
      "metadata": {
        "id": "273773f7-eb78-4bad-9bf3-196a32417645"
      },
      "outputs": [],
      "source": [
        "class Review:\n",
        "    def __init__(self, text, score):\n",
        "        self.text = str(text)\n",
        "        self.score = score\n",
        "        self.sentiment = self.get_sentiment()\n",
        "\n",
        "    def get_sentiment(self):\n",
        "        if (self.score >= 3):\n",
        "            return \"POSITIVE\"\n",
        "        else:\n",
        "            return \"NEGATIVE\""
      ]
    },
    {
      "cell_type": "code",
      "source": [
        "from google.colab import drive\n",
        "drive.mount('/content/drive')"
      ],
      "metadata": {
        "id": "ntDOcF9DlUll",
        "outputId": "ed01c94c-5ded-45de-ff15-a2f8d9b5b062",
        "colab": {
          "base_uri": "https://localhost:8080/"
        }
      },
      "id": "ntDOcF9DlUll",
      "execution_count": 2,
      "outputs": [
        {
          "output_type": "stream",
          "name": "stdout",
          "text": [
            "Drive already mounted at /content/drive; to attempt to forcibly remount, call drive.mount(\"/content/drive\", force_remount=True).\n"
          ]
        }
      ]
    },
    {
      "cell_type": "markdown",
      "id": "671ec3bb",
      "metadata": {
        "id": "671ec3bb"
      },
      "source": [
        "### Extract data"
      ]
    },
    {
      "cell_type": "code",
      "execution_count": 3,
      "id": "7820084b-dfae-4a13-bd51-da782e7a3f04",
      "metadata": {
        "id": "7820084b-dfae-4a13-bd51-da782e7a3f04"
      },
      "outputs": [],
      "source": [
        "filename = \"/content/drive/MyDrive/Colab Notebooks/data/Books_rating.csv\"\n",
        "import pandas as pd\n",
        "df = pd.read_csv(filename, nrows = 100000)"
      ]
    },
    {
      "cell_type": "markdown",
      "source": [
        "### Cleansing data"
      ],
      "metadata": {
        "id": "Rtz47gAGl_pM"
      },
      "id": "Rtz47gAGl_pM"
    },
    {
      "cell_type": "code",
      "source": [
        "df[['review/text', 'review/score']].isnull().sum()\n",
        "df['review/text'].dropna()"
      ],
      "metadata": {
        "id": "W2Jzh1w1mC5T",
        "outputId": "adacc42d-a912-4270-9e47-6a61803b6661",
        "colab": {
          "base_uri": "https://localhost:8080/"
        }
      },
      "id": "W2Jzh1w1mC5T",
      "execution_count": 4,
      "outputs": [
        {
          "output_type": "execute_result",
          "data": {
            "text/plain": [
              "0        This is only for Julie Strain fans. It's a col...\n",
              "1        I don't care much for Dr. Seuss but after read...\n",
              "2        If people become the books they read and if \"t...\n",
              "3        Theodore Seuss Geisel (1904-1991), aka &quot;D...\n",
              "4        Philip Nel - Dr. Seuss: American IconThis is b...\n",
              "                               ...                        \n",
              "99995    I somewhat liked april morning. It was a quick...\n",
              "99996    I somewhat liked april morning. It was a quick...\n",
              "99997    I enjoyed this book very much. Although it was...\n",
              "99998    I have read the novel, April Morning, and i fo...\n",
              "99999    If you want to read an outstanding book about ...\n",
              "Name: review/text, Length: 100000, dtype: object"
            ]
          },
          "metadata": {},
          "execution_count": 4
        }
      ]
    },
    {
      "cell_type": "markdown",
      "id": "9273df36-458d-4aec-8c4e-630ba74654ac",
      "metadata": {
        "id": "9273df36-458d-4aec-8c4e-630ba74654ac"
      },
      "source": [
        "### Train Test Split"
      ]
    },
    {
      "cell_type": "code",
      "execution_count": 5,
      "id": "3434840a-691c-4ef6-9f7e-a01ff279fb85",
      "metadata": {
        "id": "3434840a-691c-4ef6-9f7e-a01ff279fb85"
      },
      "outputs": [],
      "source": [
        "from sklearn.model_selection import train_test_split\n",
        "\n",
        "reviews = [Review(df.loc[i]['review/text'], df.loc[i]['review/score']) for i in range(len(df))]\n",
        "\n",
        "X = [x.text for x in reviews]\n",
        "y = [y.sentiment for y in reviews]\n",
        "\n",
        "X_train, X_test, y_train, y_test = train_test_split(X, y, test_size = 0.2, random_state = 2)"
      ]
    },
    {
      "cell_type": "markdown",
      "id": "6e2f212b",
      "metadata": {
        "id": "6e2f212b"
      },
      "source": [
        "### Text preprocessing"
      ]
    },
    {
      "cell_type": "code",
      "source": [
        "import re\n",
        "import nltk\n",
        "from nltk.corpus import stopwords\n",
        "\n",
        "nltk.download('stopwords')\n",
        "\n",
        "# https://stackoverflow.com/questions/66044999/remove-stopwords-in-tensorflow-extended\n",
        "def parse_text(text):\n",
        "    text = re.sub(\"[^a-zA-Z]\", ' ', text) # Remove punctuation and numbers\n",
        "\n",
        "    text = text.lower().split() # Lowercase and split\n",
        "\n",
        "    swords = set(stopwords.words(\"english\"))\n",
        "    text = [w for w in text if w not in swords] # Remove stop words\n",
        "\n",
        "    text = \" \".join(text)\n",
        "    return text\n",
        "\n",
        "X_train = [parse_text(text) for text in X_train]\n",
        "X_test = [parse_text(text) for text in X_test]"
      ],
      "metadata": {
        "id": "kzf1Q8VcpTmj",
        "colab": {
          "base_uri": "https://localhost:8080/"
        },
        "outputId": "369b0039-41ed-428f-c132-62af2d74e687"
      },
      "id": "kzf1Q8VcpTmj",
      "execution_count": 6,
      "outputs": [
        {
          "output_type": "stream",
          "name": "stderr",
          "text": [
            "[nltk_data] Downloading package stopwords to /root/nltk_data...\n",
            "[nltk_data]   Package stopwords is already up-to-date!\n"
          ]
        }
      ]
    },
    {
      "cell_type": "code",
      "execution_count": 7,
      "id": "6f082c50",
      "metadata": {
        "id": "6f082c50",
        "colab": {
          "base_uri": "https://localhost:8080/"
        },
        "outputId": "fb700e6f-1ed9-4a06-ef87-f25ae01d6553"
      },
      "outputs": [
        {
          "output_type": "stream",
          "name": "stdout",
          "text": [
            "read book boy mother autographed copy book gives realistic tale life like leading wounded knee massacre\n",
            "[2, 1, 349, 271, 16248, 360, 1, 221, 806, 218, 13, 5, 1442, 4981, 7809, 7858]\n"
          ]
        }
      ],
      "source": [
        "from tensorflow.keras.preprocessing.text import Tokenizer\n",
        "from tensorflow.keras.preprocessing.sequence import pad_sequences\n",
        "\n",
        "#Tokenize and pad the text data\n",
        "tokenizer = Tokenizer()\n",
        "tokenizer.fit_on_texts(X_train)\n",
        "\n",
        "X_train_sequences = tokenizer.texts_to_sequences(X_train)\n",
        "X_test_sequences = tokenizer.texts_to_sequences(X_test)\n",
        "\n",
        "print(X_train[0])\n",
        "print(X_train_sequences[0])\n",
        "\n",
        "max_len = max(len(seq) for seq in X_train_sequences)\n",
        "\n",
        "X_train_padded = pad_sequences(X_train_sequences, maxlen = max_len)\n",
        "X_test_padded = pad_sequences(X_test_sequences, maxlen = max_len)"
      ]
    },
    {
      "cell_type": "code",
      "execution_count": 8,
      "id": "b0e41b21",
      "metadata": {
        "id": "b0e41b21"
      },
      "outputs": [],
      "source": [
        "from sklearn.preprocessing import LabelEncoder\n",
        "\n",
        "# Encode labels ('POSITIVE' and 'NEGATIVE') to numerical values (0 and 1)\n",
        "label_encoder = LabelEncoder()\n",
        "y_train_encoded = label_encoder.fit_transform(y_train)\n",
        "y_test_encoded = label_encoder.transform(y_test)"
      ]
    },
    {
      "cell_type": "markdown",
      "id": "0b8c1f0b",
      "metadata": {
        "id": "0b8c1f0b"
      },
      "source": [
        "### Train the model"
      ]
    },
    {
      "cell_type": "code",
      "execution_count": 9,
      "id": "ac4ccdcd",
      "metadata": {
        "id": "ac4ccdcd",
        "colab": {
          "base_uri": "https://localhost:8080/"
        },
        "outputId": "61e5abc3-265c-419c-ab44-442458578c94"
      },
      "outputs": [
        {
          "output_type": "stream",
          "name": "stdout",
          "text": [
            "Epoch 1/15\n",
            "2000/2000 [==============================] - 349s 172ms/step - loss: 0.5424 - binary_accuracy: 0.8792 - val_loss: 0.2604 - val_binary_accuracy: 0.9056\n",
            "Epoch 2/15\n",
            "2000/2000 [==============================] - 224s 112ms/step - loss: 0.2106 - binary_accuracy: 0.9222 - val_loss: 0.2333 - val_binary_accuracy: 0.9105\n",
            "Epoch 3/15\n",
            "2000/2000 [==============================] - 217s 108ms/step - loss: 0.1642 - binary_accuracy: 0.9413 - val_loss: 0.2489 - val_binary_accuracy: 0.9152\n",
            "Epoch 4/15\n",
            "2000/2000 [==============================] - 204s 102ms/step - loss: 0.1247 - binary_accuracy: 0.9583 - val_loss: 0.2540 - val_binary_accuracy: 0.9121\n",
            "Epoch 5/15\n",
            "2000/2000 [==============================] - 208s 104ms/step - loss: 0.0960 - binary_accuracy: 0.9695 - val_loss: 0.2802 - val_binary_accuracy: 0.9116\n"
          ]
        }
      ],
      "source": [
        "import tensorflow as tf\n",
        "from tensorflow.keras import losses\n",
        "from tensorflow import keras\n",
        "from tensorflow.keras.layers import Embedding, LSTM, Dense, Dropout\n",
        "from tensorflow.keras import regularizers\n",
        "from tensorflow.keras.callbacks import EarlyStopping\n",
        "\n",
        "model = tf.keras.Sequential()\n",
        "\n",
        "# Layers for training\n",
        "model.add(Embedding(input_dim = len(tokenizer.word_index) + 1,\n",
        "                    output_dim = 100,\n",
        "                    input_length = max_len)) # Input layer\n",
        "model.add(Dropout(0.5)) # Dropout layer\n",
        "model.add(LSTM(units = 100,\n",
        "               return_sequences = False)) # LSTM layer\n",
        "model.add(Dense(units = 64,\n",
        "                activation = 'relu',\n",
        "                kernel_regularizer = regularizers.l2(0.1))) # L2 regularizer\n",
        "model.add(Dense(units = 1,\n",
        "                activation = 'sigmoid')) # Output layer\n",
        "\n",
        "model.compile(optimizer = tf.keras.optimizers.Adam(learning_rate = 0.001),\n",
        "              loss = losses.BinaryCrossentropy(from_logits=False),\n",
        "              metrics = tf.metrics.BinaryAccuracy(threshold=0.5))\n",
        "\n",
        "# Early stopping\n",
        "callback = EarlyStopping(monitor = 'val_loss',\n",
        "                         patience = 3,\n",
        "                         restore_best_weights = True)\n",
        "\n",
        "# Start to train the model\n",
        "history = model.fit(X_train_padded,\n",
        "                    y_train_encoded,\n",
        "                    epochs = 15,\n",
        "                    batch_size = 32,\n",
        "                    validation_split = 0.2,\n",
        "                    callbacks = [callback])"
      ]
    },
    {
      "cell_type": "markdown",
      "id": "d8c3bf98",
      "metadata": {
        "id": "d8c3bf98"
      },
      "source": [
        "### Plot the model's evaluation"
      ]
    },
    {
      "cell_type": "code",
      "execution_count": 14,
      "id": "01b7da0a",
      "metadata": {
        "id": "01b7da0a",
        "colab": {
          "base_uri": "https://localhost:8080/",
          "height": 472
        },
        "outputId": "a86ec7b5-66dc-47c8-9d55-df1d022527fa"
      },
      "outputs": [
        {
          "output_type": "display_data",
          "data": {
            "text/plain": [
              "<Figure size 640x480 with 1 Axes>"
            ],
            "image/png": "[encoded data removed]"
          },
          "metadata": {}
        }
      ],
      "source": [
        "import matplotlib.pyplot as plt\n",
        "\n",
        "epochs = range(1, len(history.history['loss']) + 1)\n",
        "\n",
        "plt.plot(epochs, history.history['loss'], label = 'traning loss')\n",
        "plt.plot(epochs, history.history['val_loss'], label = 'validation loss')\n",
        "plt.title('Training and validation loss')\n",
        "plt.xlabel('Epochs')\n",
        "plt.ylabel('Loss')\n",
        "plt.legend()\n",
        "plt.ylim(0, 1)\n",
        "plt.show()"
      ]
    },
    {
      "cell_type": "code",
      "execution_count": 11,
      "id": "bf9a5a50",
      "metadata": {
        "id": "bf9a5a50",
        "colab": {
          "base_uri": "https://localhost:8080/",
          "height": 472
        },
        "outputId": "6bc84cdc-4c6f-45a4-c322-778d0cd712f3"
      },
      "outputs": [
        {
          "output_type": "display_data",
          "data": {
            "text/plain": [
              "<Figure size 640x480 with 1 Axes>"
            ],
            "image/png": "[encoded data removed]"
          },
          "metadata": {}
        }
      ],
      "source": [
        "plt.plot(epochs, history.history['binary_accuracy'], label='Training acc')\n",
        "plt.plot(epochs, history.history['val_binary_accuracy'], label='Validation acc')\n",
        "plt.title('Training and validation accuracy')\n",
        "plt.xlabel('Epochs')\n",
        "plt.ylabel('Accuracy')\n",
        "plt.ylim(0, 1)\n",
        "plt.legend()\n",
        "plt.show()"
      ]
    },
    {
      "cell_type": "markdown",
      "id": "a3a49da4",
      "metadata": {
        "id": "a3a49da4"
      },
      "source": [
        "### Test"
      ]
    },
    {
      "cell_type": "code",
      "source": [
        "# Evaluate the model on the test set\n",
        "results = model.evaluate(X_test_padded, y_test_encoded)\n",
        "\n",
        "# Print the evaluation results\n",
        "print(\"Test Loss:\", results[0])\n",
        "print(\"Test Accuracy:\", results[1])"
      ],
      "metadata": {
        "colab": {
          "base_uri": "https://localhost:8080/"
        },
        "id": "iIpm0lkgZfJj",
        "outputId": "474f1a3b-c571-479a-99bf-ea9936131f9f"
      },
      "id": "iIpm0lkgZfJj",
      "execution_count": 12,
      "outputs": [
        {
          "output_type": "stream",
          "name": "stdout",
          "text": [
            "625/625 [==============================] - 21s 34ms/step - loss: 0.2196 - binary_accuracy: 0.9190\n",
            "Test Loss: 0.21955882012844086\n",
            "Test Accuracy: 0.9190000295639038\n"
          ]
        }
      ]
    },
    {
      "cell_type": "code",
      "execution_count": 13,
      "id": "02a5b30c",
      "metadata": {
        "id": "02a5b30c",
        "colab": {
          "base_uri": "https://localhost:8080/"
        },
        "outputId": "317e5aba-7416-40ae-8853-ed6759ae46b6"
      },
      "outputs": [
        {
          "output_type": "stream",
          "name": "stdout",
          "text": [
            "1/1 [==============================] - 0s 410ms/step\n",
            "['NEGATIVE', 'NEGATIVE', 'NEGATIVE', 'POSITIVE', 'POSITIVE', 'POSITIVE', 'NEGATIVE']\n"
          ]
        }
      ],
      "source": [
        "def convert(p):\n",
        "    if (p < 0.5): return 'NEGATIVE'\n",
        "    else: return 'POSITIVE'\n",
        "new_test = ['I hate this book', 'Bad horrible', 'Trash book', 'I enjoyed it', 'Amazing book', 'This book is a masterpiece', 'What a waste of time']\n",
        "new_test_sequences = tokenizer.texts_to_sequences(new_test)\n",
        "new_test_padded = pad_sequences(new_test_sequences, maxlen=max_len)\n",
        "\n",
        "predictions = [convert(p) for p in model.predict(new_test_padded)]\n",
        "print(predictions)"
      ]
    }
  ],
  "metadata": {
    "kernelspec": {
      "display_name": "Python 3",
      "name": "python3"
    },
    "language_info": {
      "codemirror_mode": {
        "name": "ipython",
        "version": 3
      },
      "file_extension": ".py",
      "mimetype": "text/x-python",
      "name": "python",
      "nbconvert_exporter": "python",
      "pygments_lexer": "ipython3",
      "version": "3.9.18"
    },
    "colab": {
      "provenance": [],
      "gpuType": "T4",
      "include_colab_link": true
    },
    "accelerator": "GPU"
  },
  "nbformat": 4,
  "nbformat_minor": 5
}