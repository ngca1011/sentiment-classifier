{
  "cells": [
    {
      "cell_type": "markdown",
      "metadata": {
        "id": "view-in-github",
        "colab_type": "text"
      },
      "source": [
        "<a href=\"https://colab.research.google.com/github/ngca1011/sentiment-classifier/blob/main/sentiment_classification_training_model.ipynb\" target=\"_parent\"><img src=\"https://colab.research.google.com/assets/colab-badge.svg\" alt=\"Open In Colab\"/></a>"
      ]
    },
    {
      "cell_type": "code",
      "execution_count": 1,
      "id": "273773f7-eb78-4bad-9bf3-196a32417645",
      "metadata": {
        "id": "273773f7-eb78-4bad-9bf3-196a32417645"
      },
      "outputs": [],
      "source": [
        "class Review:\n",
        "    def __init__(self, text, score):\n",
        "        self.text = str(text)\n",
        "        self.score = score\n",
        "        self.sentiment = self.get_sentiment()\n",
        "\n",
        "    def get_sentiment(self):\n",
        "        if (self.score >= 3):\n",
        "            return \"POSITIVE\"\n",
        "        else:\n",
        "            return \"NEGATIVE\""
      ]
    },
    {
      "cell_type": "code",
      "source": [
        "from google.colab import drive\n",
        "drive.mount('/content/drive')"
      ],
      "metadata": {
        "id": "ntDOcF9DlUll",
        "outputId": "869333b0-774b-4d44-f81e-04c115a2ddf2",
        "colab": {
          "base_uri": "https://localhost:8080/"
        }
      },
      "id": "ntDOcF9DlUll",
      "execution_count": 2,
      "outputs": [
        {
          "output_type": "stream",
          "name": "stdout",
          "text": [
            "Mounted at /content/drive\n"
          ]
        }
      ]
    },
    {
      "cell_type": "markdown",
      "id": "671ec3bb",
      "metadata": {
        "id": "671ec3bb"
      },
      "source": [
        "### Extract data"
      ]
    },
    {
      "cell_type": "code",
      "execution_count": 3,
      "id": "7820084b-dfae-4a13-bd51-da782e7a3f04",
      "metadata": {
        "id": "7820084b-dfae-4a13-bd51-da782e7a3f04"
      },
      "outputs": [],
      "source": [
        "filename = \"/content/drive/MyDrive/Colab Notebooks/data/Books_rating.csv\"\n",
        "import pandas as pd\n",
        "df = pd.read_csv(filename, nrows = 120000)"
      ]
    },
    {
      "cell_type": "markdown",
      "source": [
        "### Cleansing data"
      ],
      "metadata": {
        "id": "Rtz47gAGl_pM"
      },
      "id": "Rtz47gAGl_pM"
    },
    {
      "cell_type": "code",
      "source": [
        "df[['review/text', 'review/score']].isnull().sum()\n",
        "df['review/text'].dropna(inplace = True)"
      ],
      "metadata": {
        "id": "W2Jzh1w1mC5T"
      },
      "id": "W2Jzh1w1mC5T",
      "execution_count": 4,
      "outputs": []
    },
    {
      "cell_type": "markdown",
      "id": "9273df36-458d-4aec-8c4e-630ba74654ac",
      "metadata": {
        "id": "9273df36-458d-4aec-8c4e-630ba74654ac"
      },
      "source": [
        "### Train Test Split"
      ]
    },
    {
      "cell_type": "code",
      "execution_count": 5,
      "id": "3434840a-691c-4ef6-9f7e-a01ff279fb85",
      "metadata": {
        "id": "3434840a-691c-4ef6-9f7e-a01ff279fb85"
      },
      "outputs": [],
      "source": [
        "from sklearn.model_selection import train_test_split\n",
        "\n",
        "reviews = [Review(df.loc[i]['review/text'], df.loc[i]['review/score']) for i in range(len(df))]\n",
        "\n",
        "X = [x.text for x in reviews]\n",
        "y = [y.sentiment for y in reviews]\n",
        "\n",
        "X_train, X_test, y_train, y_test = train_test_split(X, y, test_size = 0.2, stratify = y, random_state = 2)"
      ]
    },
    {
      "cell_type": "markdown",
      "id": "6e2f212b",
      "metadata": {
        "id": "6e2f212b"
      },
      "source": [
        "### Text preprocessing"
      ]
    },
    {
      "cell_type": "code",
      "source": [
        "import re\n",
        "import nltk\n",
        "from nltk.corpus import stopwords\n",
        "\n",
        "nltk.download('stopwords')\n",
        "\n",
        "# https://stackoverflow.com/questions/66044999/remove-stopwords-in-tensorflow-extended\n",
        "def parse_text(text):\n",
        "    text = re.sub(\"[^a-zA-Z]\", ' ', text) # Remove punctuation and numbers\n",
        "\n",
        "    text = text.lower().split() # Lowercase and split\n",
        "\n",
        "    swords = set(stopwords.words(\"english\"))\n",
        "    text = [w for w in text if w not in swords] # Remove stop words\n",
        "\n",
        "    text = \" \".join(text)\n",
        "    return text\n",
        "\n",
        "X_train = [parse_text(text) for text in X_train]\n",
        "X_test = [parse_text(text) for text in X_test]"
      ],
      "metadata": {
        "id": "kzf1Q8VcpTmj",
        "colab": {
          "base_uri": "https://localhost:8080/"
        },
        "outputId": "c848165f-adda-4674-9c83-dd0a6f24aa80"
      },
      "id": "kzf1Q8VcpTmj",
      "execution_count": 6,
      "outputs": [
        {
          "output_type": "stream",
          "name": "stderr",
          "text": [
            "[nltk_data] Downloading package stopwords to /root/nltk_data...\n",
            "[nltk_data]   Unzipping corpora/stopwords.zip.\n"
          ]
        }
      ]
    },
    {
      "cell_type": "code",
      "execution_count": 7,
      "id": "6f082c50",
      "metadata": {
        "id": "6f082c50",
        "colab": {
          "base_uri": "https://localhost:8080/"
        },
        "outputId": "c931a5c0-a1ec-43dd-cd61-5474034f708b"
      },
      "outputs": [
        {
          "output_type": "stream",
          "name": "stdout",
          "text": [
            "first write review shall constructively credic negative reviews book great unlike others believe plot th part quite original paolini great job keeping story interesting whole book also good job steady maturing eragon read reviews say paolini copied tolkien george lucas etc however agree one many rags riches characters stories mean copy others eregon resemble skywalker maybe little bit mean copied idea tolkien remember scholar lore expert celtic mythology like take far tolkien stole idea celts paolini stole idea celtic mythology tolkien tolkien expert would safe trust ideas one last thing sure everybody critizing taken literature course remember leatherstocking tales considered basis american heros including huck finn though twain would likely deny etc american novels stole cooper author leatherstocking tales summaryeragon original novel original make automatically bad story paolini combined ideas best traditional ideas create great novel\n",
            "[14, 256, 230, 2444, 28718, 70823, 1118, 320, 1, 11, 817, 113, 138, 82, 218, 79, 121, 255, 714, 11, 187, 1299, 5, 58, 178, 1, 19, 10, 187, 6520, 12551, 242, 2, 320, 61, 714, 5591, 392, 309, 7395, 308, 63, 573, 3, 15, 8888, 5491, 24, 78, 438, 354, 113, 24154, 7998, 13910, 324, 40, 145, 438, 5591, 249, 392, 399, 2557, 4677, 2350, 4498, 2800, 6, 85, 105, 392, 6275, 249, 16579, 714, 6275, 249, 4498, 2800, 392, 392, 2350, 7, 2428, 1319, 238, 3, 107, 117, 197, 1725, 70824, 420, 237, 164, 399, 25137, 721, 736, 1392, 153, 7747, 415, 14857, 6946, 68, 1937, 7, 903, 3877, 308, 153, 161, 6275, 6301, 31, 25137, 721, 70825, 255, 21, 255, 38, 7240, 162, 5, 714, 2606, 238, 37, 1328, 238, 637, 11, 21]\n"
          ]
        }
      ],
      "source": [
        "from tensorflow.keras.preprocessing.text import Tokenizer\n",
        "from tensorflow.keras.preprocessing.sequence import pad_sequences\n",
        "\n",
        "#Tokenize and pad the text data\n",
        "tokenizer = Tokenizer()\n",
        "tokenizer.fit_on_texts(X_train)\n",
        "\n",
        "X_train_sequences = tokenizer.texts_to_sequences(X_train)\n",
        "X_test_sequences = tokenizer.texts_to_sequences(X_test)\n",
        "\n",
        "print(X_train[0])\n",
        "print(X_train_sequences[0])\n",
        "\n",
        "max_len = max(len(seq) for seq in X_train_sequences)\n",
        "\n",
        "X_train_padded = pad_sequences(X_train_sequences, maxlen = max_len)\n",
        "X_test_padded = pad_sequences(X_test_sequences, maxlen = max_len)"
      ]
    },
    {
      "cell_type": "code",
      "execution_count": 8,
      "id": "b0e41b21",
      "metadata": {
        "id": "b0e41b21"
      },
      "outputs": [],
      "source": [
        "from sklearn.preprocessing import LabelEncoder\n",
        "\n",
        "# Encode labels ('POSITIVE' and 'NEGATIVE') to numerical values (1 and 0)\n",
        "label_encoder = LabelEncoder()\n",
        "y_train_encoded = label_encoder.fit_transform(y_train)\n",
        "y_test_encoded = label_encoder.transform(y_test)"
      ]
    },
    {
      "cell_type": "markdown",
      "id": "0b8c1f0b",
      "metadata": {
        "id": "0b8c1f0b"
      },
      "source": [
        "### Train the model"
      ]
    },
    {
      "cell_type": "code",
      "execution_count": 9,
      "id": "ac4ccdcd",
      "metadata": {
        "id": "ac4ccdcd",
        "colab": {
          "base_uri": "https://localhost:8080/"
        },
        "outputId": "31a3da84-bcb0-4359-c18c-0489e10a92c4"
      },
      "outputs": [
        {
          "output_type": "stream",
          "name": "stdout",
          "text": [
            "Epoch 1/15\n",
            "2400/2400 [==============================] - 407s 168ms/step - loss: 0.5369 - binary_accuracy: 0.8832 - val_loss: 0.2524 - val_binary_accuracy: 0.9072\n",
            "Epoch 2/15\n",
            "2400/2400 [==============================] - 265s 110ms/step - loss: 0.2239 - binary_accuracy: 0.9159 - val_loss: 0.2224 - val_binary_accuracy: 0.9176\n",
            "Epoch 3/15\n",
            "2400/2400 [==============================] - 282s 118ms/step - loss: 0.1887 - binary_accuracy: 0.9292 - val_loss: 0.2157 - val_binary_accuracy: 0.9174\n",
            "Epoch 4/15\n",
            "2400/2400 [==============================] - 249s 104ms/step - loss: 0.1632 - binary_accuracy: 0.9418 - val_loss: 0.2192 - val_binary_accuracy: 0.9170\n",
            "Epoch 5/15\n",
            "2400/2400 [==============================] - 246s 102ms/step - loss: 0.1455 - binary_accuracy: 0.9485 - val_loss: 0.2483 - val_binary_accuracy: 0.9208\n",
            "Epoch 6/15\n",
            "2400/2400 [==============================] - 246s 103ms/step - loss: 0.1295 - binary_accuracy: 0.9543 - val_loss: 0.2385 - val_binary_accuracy: 0.9179\n"
          ]
        }
      ],
      "source": [
        "import tensorflow as tf\n",
        "from tensorflow.keras import losses\n",
        "from tensorflow import keras\n",
        "from tensorflow.keras.layers import Embedding, LSTM, Dense, Dropout\n",
        "from tensorflow.keras import regularizers\n",
        "from tensorflow.keras.callbacks import EarlyStopping\n",
        "\n",
        "model = tf.keras.Sequential()\n",
        "\n",
        "# Layers for training\n",
        "model.add(Embedding(input_dim = len(tokenizer.word_index) + 1,\n",
        "                    output_dim = 100,\n",
        "                    input_length = max_len)) # Input layer\n",
        "model.add(Dropout(0.8)) # Dropout layer\n",
        "model.add(LSTM(units = 100,\n",
        "               return_sequences = False)) # LSTM layer\n",
        "model.add(Dense(units = 128,\n",
        "                activation = 'relu',\n",
        "                kernel_regularizer = regularizers.l2(0.1))) # L2 regularizer\n",
        "model.add(Dense(units = 1,\n",
        "                activation = 'sigmoid')) # Output layer\n",
        "\n",
        "model.compile(optimizer = tf.keras.optimizers.Adam(learning_rate = 0.001),\n",
        "              loss = losses.BinaryCrossentropy(from_logits=False),\n",
        "              metrics = tf.metrics.BinaryAccuracy(threshold=0.5))\n",
        "\n",
        "# Early stopping\n",
        "callback = EarlyStopping(monitor = 'val_loss',\n",
        "                         patience = 3,\n",
        "                         restore_best_weights = True)\n",
        "\n",
        "# Start to train the model\n",
        "history = model.fit(X_train_padded,\n",
        "                    y_train_encoded,\n",
        "                    epochs = 15,\n",
        "                    batch_size = 32,\n",
        "                    validation_split = 0.2,\n",
        "                    callbacks = [callback])"
      ]
    },
    {
      "cell_type": "markdown",
      "id": "d8c3bf98",
      "metadata": {
        "id": "d8c3bf98"
      },
      "source": [
        "### Plot the model's evaluation"
      ]
    },
    {
      "cell_type": "code",
      "execution_count": 10,
      "id": "01b7da0a",
      "metadata": {
        "id": "01b7da0a",
        "colab": {
          "base_uri": "https://localhost:8080/",
          "height": 472
        },
        "outputId": "ea5c3e7f-08d5-4fec-cf9b-485783cf540f"
      },
      "outputs": [
        {
          "output_type": "display_data",
          "data": {
            "text/plain": [
              "<Figure size 640x480 with 1 Axes>"
            ],
            "image/png": "[encoded data removed]"
          },
          "metadata": {}
        }
      ],
      "source": [
        "import matplotlib.pyplot as plt\n",
        "\n",
        "epochs = range(1, len(history.history['loss']) + 1)\n",
        "\n",
        "plt.plot(epochs, history.history['loss'], label = 'traning loss')\n",
        "plt.plot(epochs, history.history['val_loss'], label = 'validation loss')\n",
        "plt.title('Training and validation loss')\n",
        "plt.xlabel('Epochs')\n",
        "plt.ylabel('Loss')\n",
        "plt.legend()\n",
        "plt.ylim(0, 1)\n",
        "plt.show()"
      ]
    },
    {
      "cell_type": "code",
      "execution_count": 11,
      "id": "bf9a5a50",
      "metadata": {
        "id": "bf9a5a50",
        "colab": {
          "base_uri": "https://localhost:8080/",
          "height": 472
        },
        "outputId": "6dbd6446-a98a-469a-cc07-ff26f3fcdc5b"
      },
      "outputs": [
        {
          "output_type": "display_data",
          "data": {
            "text/plain": [
              "<Figure size 640x480 with 1 Axes>"
            ],
            "image/png": "[encoded data removed]"
          },
          "metadata": {}
        }
      ],
      "source": [
        "plt.plot(epochs, history.history['binary_accuracy'], label='Training acc')\n",
        "plt.plot(epochs, history.history['val_binary_accuracy'], label='Validation acc')\n",
        "plt.title('Training and validation accuracy')\n",
        "plt.xlabel('Epochs')\n",
        "plt.ylabel('Accuracy')\n",
        "plt.ylim(0, 1)\n",
        "plt.legend()\n",
        "plt.show()"
      ]
    },
    {
      "cell_type": "markdown",
      "id": "a3a49da4",
      "metadata": {
        "id": "a3a49da4"
      },
      "source": [
        "### Test"
      ]
    },
    {
      "cell_type": "code",
      "source": [
        "# Evaluate the model on the test set\n",
        "results = model.evaluate(X_test_padded, y_test_encoded)\n",
        "\n",
        "# Print the evaluation results\n",
        "print(\"Test Loss:\", results[0])\n",
        "print(\"Test Accuracy:\", results[1])"
      ],
      "metadata": {
        "colab": {
          "base_uri": "https://localhost:8080/"
        },
        "id": "iIpm0lkgZfJj",
        "outputId": "e1474906-c028-4049-b0b4-5020cf1a5111"
      },
      "id": "iIpm0lkgZfJj",
      "execution_count": 12,
      "outputs": [
        {
          "output_type": "stream",
          "name": "stdout",
          "text": [
            "750/750 [==============================] - 26s 35ms/step - loss: 0.2180 - binary_accuracy: 0.9161\n",
            "Test Loss: 0.21797145903110504\n",
            "Test Accuracy: 0.9161249995231628\n"
          ]
        }
      ]
    },
    {
      "cell_type": "code",
      "execution_count": 13,
      "id": "02a5b30c",
      "metadata": {
        "id": "02a5b30c",
        "colab": {
          "base_uri": "https://localhost:8080/"
        },
        "outputId": "6b93c71c-7532-4e7f-dea3-490ed4ddd032"
      },
      "outputs": [
        {
          "output_type": "stream",
          "name": "stdout",
          "text": [
            "1/1 [==============================] - 1s 647ms/step\n",
            "['POSITIVE', 'NEGATIVE', 'POSITIVE', 'POSITIVE', 'POSITIVE', 'POSITIVE', 'NEGATIVE']\n"
          ]
        }
      ],
      "source": [
        "def convert(p):\n",
        "    if (p < 0.5): return 'NEGATIVE'\n",
        "    else: return 'POSITIVE'\n",
        "new_test = ['I would never recommend it to anyone, pretty much uncreative and not worth it',\n",
        "            'Bad horrible book, you should avoid it to not waste money on silly content',\n",
        "            'Not a good material overall, but acceptable',\n",
        "            'I enjoyed it a lot, i hope i see more similar books in the future!',\n",
        "            'Amazing book, i rated it 5 star !!',\n",
        "            'This book is a masterpiece!',\n",
        "            'What a waste of time']\n",
        "new_test_sequences = tokenizer.texts_to_sequences(new_test)\n",
        "new_test_padded = pad_sequences(new_test_sequences, maxlen=max_len)\n",
        "\n",
        "predictions = [convert(p) for p in model.predict(new_test_padded)]\n",
        "print(predictions)"
      ]
    }
  ],
  "metadata": {
    "kernelspec": {
      "display_name": "Python 3",
      "name": "python3"
    },
    "language_info": {
      "codemirror_mode": {
        "name": "ipython",
        "version": 3
      },
      "file_extension": ".py",
      "mimetype": "text/x-python",
      "name": "python",
      "nbconvert_exporter": "python",
      "pygments_lexer": "ipython3",
      "version": "3.9.18"
    },
    "colab": {
      "provenance": [],
      "gpuType": "T4",
      "include_colab_link": true
    },
    "accelerator": "GPU"
  },
  "nbformat": 4,
  "nbformat_minor": 5
}