{
 "cells": [
  {
   "cell_type": "code",
   "execution_count": 1,
   "id": "273773f7-eb78-4bad-9bf3-196a32417645",
   "metadata": {},
   "outputs": [],
   "source": [
    "class Review:\n",
    "    def __init__(self, text, score):\n",
    "        self.text = text\n",
    "        self.score = score\n",
    "        self.sentiment = self.get_sentiment()\n",
    "\n",
    "    def get_sentiment(self):\n",
    "        if (self.score >= 3):\n",
    "            return \"POSITIVE\"\n",
    "        else: \n",
    "            return \"NEGATIVE\""
   ]
  },
  {
   "cell_type": "markdown",
   "id": "671ec3bb",
   "metadata": {},
   "source": [
    "### Extract data"
   ]
  },
  {
   "cell_type": "code",
   "execution_count": 2,
   "id": "7820084b-dfae-4a13-bd51-da782e7a3f04",
   "metadata": {},
   "outputs": [
    {
     "name": "stdout",
     "output_type": "stream",
     "text": [
      "I enjoyed this short book. But it was way way to short ....I can see how easily it would have been to add several chapters. 3.0 POSITIVE\n"
     ]
    }
   ],
   "source": [
    "import json\n",
    "\n",
    "filename = \"./data/sentiment/books_small_10000.json\"\n",
    "\n",
    "reviews = []\n",
    "with open(filename) as f:\n",
    "    for line in f:\n",
    "        review = json.loads(line)\n",
    "        reviews.append(Review(review['reviewText'], review['overall']))\n",
    "\n",
    "print(reviews[1].text, reviews[1].score, reviews[1].sentiment)"
   ]
  },
  {
   "cell_type": "markdown",
   "id": "9273df36-458d-4aec-8c4e-630ba74654ac",
   "metadata": {},
   "source": [
    "### Train Test Split"
   ]
  },
  {
   "cell_type": "code",
   "execution_count": 3,
   "id": "3434840a-691c-4ef6-9f7e-a01ff279fb85",
   "metadata": {},
   "outputs": [],
   "source": [
    "from sklearn.model_selection import train_test_split\n",
    "\n",
    "X = [x.text for x in reviews]\n",
    "y = [y.sentiment for y in reviews]\n",
    "\n",
    "X_train, X_test, y_train, y_test = train_test_split(X, y, test_size = 0.33, random_state = 1)"
   ]
  },
  {
   "cell_type": "markdown",
   "id": "ca82275d",
   "metadata": {},
   "source": [
    "### Tensorflow for neural network modeling"
   ]
  },
  {
   "cell_type": "code",
   "execution_count": 4,
   "id": "331d5e36",
   "metadata": {},
   "outputs": [
    {
     "name": "stdout",
     "output_type": "stream",
     "text": [
      "2.7.0\n"
     ]
    }
   ],
   "source": [
    "import tensorflow as tf\n",
    "from tensorflow.keras import layers\n",
    "from tensorflow.keras import losses\n",
    "from tensorflow import keras\n",
    "\n",
    "print(tf.__version__)"
   ]
  },
  {
   "cell_type": "markdown",
   "id": "6e2f212b",
   "metadata": {},
   "source": [
    "### Text preprocessing"
   ]
  },
  {
   "cell_type": "code",
   "execution_count": 5,
   "id": "6f082c50",
   "metadata": {},
   "outputs": [
    {
     "name": "stdout",
     "output_type": "stream",
     "text": [
      "Of what's to come with Hunter and Brit.  All I will say is that this novella gets your heart going so that the only reasonable thing to do is buy the next installment of this great series!!\n",
      "[6, 1252, 3, 200, 15, 1150, 2, 4579, 32, 5, 48, 156, 7, 12, 8, 768, 333, 92, 202, 125, 30, 12, 1, 98, 3033, 243, 3, 87, 7, 414, 1, 108, 649, 6, 8, 64, 58]\n",
      "[ 0  0  0 ...  8 64 58]\n"
     ]
    }
   ],
   "source": [
    "from tensorflow.keras.preprocessing.text import Tokenizer\n",
    "from tensorflow.keras.preprocessing.sequence import pad_sequences\n",
    "\n",
    "#Tokenize and pad the text data\n",
    "tokenizer = Tokenizer()\n",
    "tokenizer.fit_on_texts(X_train)\n",
    "\n",
    "X_train_sequences = tokenizer.texts_to_sequences(X_train)\n",
    "X_test_sequences = tokenizer.texts_to_sequences(X_test)\n",
    "\n",
    "print(X_train[0])\n",
    "print(X_train_sequences[0])\n",
    "\n",
    "max_len = max(len(seq) for seq in X_train_sequences)\n",
    "\n",
    "X_train_padded = pad_sequences(X_train_sequences, maxlen = max_len)\n",
    "X_test_padded = pad_sequences(X_test_sequences, maxlen=max_len)\n",
    "\n",
    "print(X_train_padded[0])"
   ]
  },
  {
   "cell_type": "code",
   "execution_count": 6,
   "id": "b0e41b21",
   "metadata": {},
   "outputs": [],
   "source": [
    "from sklearn.preprocessing import LabelEncoder\n",
    "\n",
    "# Encode labels ('POSITIVE' and 'NEGATIVE') to numerical values (0 and 1)\n",
    "label_encoder = LabelEncoder()\n",
    "y_train_encoded = label_encoder.fit_transform(y_train)\n",
    "y_test_encoded = label_encoder.transform(y_test)"
   ]
  },
  {
   "cell_type": "markdown",
   "id": "0b8c1f0b",
   "metadata": {},
   "source": [
    "### Train the model"
   ]
  },
  {
   "cell_type": "code",
   "execution_count": 7,
   "id": "ac4ccdcd",
   "metadata": {},
   "outputs": [
    {
     "name": "stdout",
     "output_type": "stream",
     "text": [
      "Epoch 1/5\n"
     ]
    },
    {
     "name": "stderr",
     "output_type": "stream",
     "text": [
      "c:\\Users\\ADMIN\\anaconda3\\envs\\tf\\lib\\site-packages\\tensorflow\\python\\util\\dispatch.py:1096: UserWarning: \"`binary_crossentropy` received `from_logits=True`, but the `output` argument was produced by a sigmoid or softmax activation and thus does not represent logits. Was this intended?\"\n",
      "  return dispatch_target(*args, **kwargs)\n"
     ]
    },
    {
     "name": "stdout",
     "output_type": "stream",
     "text": [
      "168/168 [==============================] - 38s 94ms/step - loss: 0.2859 - binary_accuracy: 0.9323 - val_loss: 0.2107 - val_binary_accuracy: 0.9440\n",
      "Epoch 2/5\n",
      "107/168 [==================>...........] - ETA: 4s - loss: 0.2104 - binary_accuracy: 0.9314"
     ]
    }
   ],
   "source": [
    "from tensorflow.keras.layers import Embedding, LSTM, Dense, Dropout\n",
    "from tensorflow.keras import regularizers\n",
    "\n",
    "model = tf.keras.Sequential()\n",
    "\n",
    "model.add(Embedding(input_dim = len(tokenizer.word_index) + 1, output_dim = 50, input_length = max_len)) \n",
    "model.add(Dropout(0.5))\n",
    "model.add(LSTM(units = 50))\n",
    "model.add(Dropout(0.5))\n",
    "model.add(Dense(units = 1, activation = 'sigmoid'))\n",
    "\n",
    "model.compile(optimizer='adam', loss=losses.BinaryCrossentropy(from_logits=True), metrics=tf.metrics.BinaryAccuracy(threshold=0.0))\n",
    "\n",
    "history = model.fit(X_train_padded, y_train_encoded, epochs = 5, validation_split = 0.2)"
   ]
  },
  {
   "cell_type": "markdown",
   "id": "d8c3bf98",
   "metadata": {},
   "source": [
    "### Plot the model's evaluation"
   ]
  },
  {
   "cell_type": "code",
   "execution_count": null,
   "id": "01b7da0a",
   "metadata": {},
   "outputs": [
    {
     "data": {
      "image/png": "[encoded data removed]",
      "text/plain": [
       "<Figure size 640x480 with 1 Axes>"
      ]
     },
     "metadata": {},
     "output_type": "display_data"
    }
   ],
   "source": [
    "import matplotlib.pyplot as plt\n",
    "\n",
    "epochs = range(1, len(history.history['loss']) + 1)\n",
    "\n",
    "plt.plot(epochs, history.history['loss'], label = 'traning loss')\n",
    "plt.plot(epochs, history.history['val_loss'], label = 'validation loss')\n",
    "plt.title('Training and validation loss')\n",
    "plt.xlabel('Epochs')\n",
    "plt.ylabel('Loss')\n",
    "plt.legend()\n",
    "plt.ylim(0, 1)\n",
    "plt.show()"
   ]
  },
  {
   "cell_type": "code",
   "execution_count": null,
   "id": "bf9a5a50",
   "metadata": {},
   "outputs": [
    {
     "data": {
      "image/png": "[encoded data removed]",
      "text/plain": [
       "<Figure size 640x480 with 1 Axes>"
      ]
     },
     "metadata": {},
     "output_type": "display_data"
    }
   ],
   "source": [
    "plt.plot(epochs, history.history['binary_accuracy'], label='Training acc')\n",
    "plt.plot(epochs, history.history['val_binary_accuracy'], label='Validation acc')\n",
    "plt.title('Training and validation accuracy')\n",
    "plt.xlabel('Epochs')\n",
    "plt.ylabel('Accuracy')\n",
    "plt.ylim(0, 1)\n",
    "plt.legend()\n",
    "plt.show()"
   ]
  },
  {
   "cell_type": "markdown",
   "id": "a3a49da4",
   "metadata": {},
   "source": [
    "### Test"
   ]
  },
  {
   "cell_type": "code",
   "execution_count": null,
   "id": "02a5b30c",
   "metadata": {},
   "outputs": [
    {
     "name": "stdout",
     "output_type": "stream",
     "text": [
      "['NEGATIVE', 'NEGATIVE', 'NEGATIVE', 'POSITIVE', 'POSITIVE', 'NEGATIVE']\n"
     ]
    }
   ],
   "source": [
    "def convert(p):\n",
    "    if (p < 0.5): return 'NEGATIVE'\n",
    "    else: return 'POSITIVE'\n",
    "new_test = ['I hate this book', 'Bad book', 'trash book', 'Amazing book', 'This book is a masterpiece', 'What a waste of time']\n",
    "new_test_sequences = tokenizer.texts_to_sequences(new_test)\n",
    "new_test_padded = pad_sequences(new_test_sequences, maxlen=max_len)\n",
    "\n",
    "predictions = [convert(p) for p in model.predict(new_test_padded)]\n",
    "print(predictions)"
   ]
  }
 ],
 "metadata": {
  "kernelspec": {
   "display_name": "Python 3 (ipykernel)",
   "language": "python",
   "name": "python3"
  },
  "language_info": {
   "codemirror_mode": {
    "name": "ipython",
    "version": 3
   },
   "file_extension": ".py",
   "mimetype": "text/x-python",
   "name": "python",
   "nbconvert_exporter": "python",
   "pygments_lexer": "ipython3",
   "version": "3.9.18"
  }
 },
 "nbformat": 4,
 "nbformat_minor": 5
}
