{
  "cells": [
    {
      "cell_type": "markdown",
      "metadata": {
        "id": "view-in-github",
        "colab_type": "text"
      },
      "source": [
        "<a href=\"https://colab.research.google.com/github/ngca1011/sentiment-classifier/blob/main/sentiment_classification_training_model.ipynb\" target=\"_parent\"><img src=\"https://colab.research.google.com/assets/colab-badge.svg\" alt=\"Open In Colab\"/></a>"
      ]
    },
    {
      "cell_type": "code",
      "execution_count": 1,
      "id": "273773f7-eb78-4bad-9bf3-196a32417645",
      "metadata": {
        "id": "273773f7-eb78-4bad-9bf3-196a32417645"
      },
      "outputs": [],
      "source": [
        "class Review:\n",
        "    def __init__(self, text, score):\n",
        "        self.text = str(text)\n",
        "        self.score = score\n",
        "        self.sentiment = self.get_sentiment()\n",
        "\n",
        "    def get_sentiment(self):\n",
        "        if (self.score >= 3):\n",
        "            return \"POSITIVE\"\n",
        "        else:\n",
        "            return \"NEGATIVE\""
      ]
    },
    {
      "cell_type": "code",
      "source": [
        "from google.colab import drive\n",
        "drive.mount('/content/drive')"
      ],
      "metadata": {
        "id": "ntDOcF9DlUll",
        "outputId": "6700e1b8-0426-4f06-e01c-84a141b77442",
        "colab": {
          "base_uri": "https://localhost:8080/"
        }
      },
      "id": "ntDOcF9DlUll",
      "execution_count": 2,
      "outputs": [
        {
          "output_type": "stream",
          "name": "stdout",
          "text": [
            "Mounted at /content/drive\n"
          ]
        }
      ]
    },
    {
      "cell_type": "markdown",
      "id": "671ec3bb",
      "metadata": {
        "id": "671ec3bb"
      },
      "source": [
        "### Extract data"
      ]
    },
    {
      "cell_type": "code",
      "execution_count": 3,
      "id": "7820084b-dfae-4a13-bd51-da782e7a3f04",
      "metadata": {
        "id": "7820084b-dfae-4a13-bd51-da782e7a3f04"
      },
      "outputs": [],
      "source": [
        "filename = \"/content/drive/MyDrive/Colab Notebooks/data/Books_rating.csv\"\n",
        "import pandas as pd\n",
        "df = pd.read_csv(filename, nrows = 120000)"
      ]
    },
    {
      "cell_type": "markdown",
      "source": [
        "### Cleansing data"
      ],
      "metadata": {
        "id": "Rtz47gAGl_pM"
      },
      "id": "Rtz47gAGl_pM"
    },
    {
      "cell_type": "code",
      "source": [
        "df[['review/text', 'review/score']].isnull().sum()\n",
        "df['review/text'].dropna()"
      ],
      "metadata": {
        "id": "W2Jzh1w1mC5T",
        "outputId": "85dfaae0-079a-416e-8077-8b8e3971c853",
        "colab": {
          "base_uri": "https://localhost:8080/"
        }
      },
      "id": "W2Jzh1w1mC5T",
      "execution_count": 4,
      "outputs": [
        {
          "output_type": "execute_result",
          "data": {
            "text/plain": [
              "0         This is only for Julie Strain fans. It's a col...\n",
              "1         I don't care much for Dr. Seuss but after read...\n",
              "2         If people become the books they read and if \"t...\n",
              "3         Theodore Seuss Geisel (1904-1991), aka &quot;D...\n",
              "4         Philip Nel - Dr. Seuss: American IconThis is b...\n",
              "                                ...                        \n",
              "119995    Fantastic book, gives many variations and reci...\n",
              "119996    Although it arrived later than I expected the ...\n",
              "119997    Lots of different recipes which look like fun ...\n",
              "119998    I have owned this cookbook for over ten years ...\n",
              "119999    Received book as promised and book was just as...\n",
              "Name: review/text, Length: 120000, dtype: object"
            ]
          },
          "metadata": {},
          "execution_count": 4
        }
      ]
    },
    {
      "cell_type": "markdown",
      "id": "9273df36-458d-4aec-8c4e-630ba74654ac",
      "metadata": {
        "id": "9273df36-458d-4aec-8c4e-630ba74654ac"
      },
      "source": [
        "### Train Test Split"
      ]
    },
    {
      "cell_type": "code",
      "execution_count": 5,
      "id": "3434840a-691c-4ef6-9f7e-a01ff279fb85",
      "metadata": {
        "id": "3434840a-691c-4ef6-9f7e-a01ff279fb85"
      },
      "outputs": [],
      "source": [
        "from sklearn.model_selection import train_test_split\n",
        "\n",
        "reviews = [Review(df.loc[i]['review/text'], df.loc[i]['review/score']) for i in range(len(df))]\n",
        "\n",
        "X = [x.text for x in reviews]\n",
        "y = [y.sentiment for y in reviews]\n",
        "\n",
        "X_train, X_test, y_train, y_test = train_test_split(X, y, test_size = 0.2, stratify = y, random_state = 2)"
      ]
    },
    {
      "cell_type": "markdown",
      "id": "6e2f212b",
      "metadata": {
        "id": "6e2f212b"
      },
      "source": [
        "### Text preprocessing"
      ]
    },
    {
      "cell_type": "code",
      "source": [
        "import re\n",
        "import nltk\n",
        "from nltk.corpus import stopwords\n",
        "\n",
        "nltk.download('stopwords')\n",
        "\n",
        "# https://stackoverflow.com/questions/66044999/remove-stopwords-in-tensorflow-extended\n",
        "def parse_text(text):\n",
        "    text = re.sub(\"[^a-zA-Z]\", ' ', text) # Remove punctuation and numbers\n",
        "\n",
        "    text = text.lower().split() # Lowercase and split\n",
        "\n",
        "    swords = set(stopwords.words(\"english\"))\n",
        "    text = [w for w in text if w not in swords] # Remove stop words\n",
        "\n",
        "    text = \" \".join(text)\n",
        "    return text\n",
        "\n",
        "X_train = [parse_text(text) for text in X_train]\n",
        "X_test = [parse_text(text) for text in X_test]"
      ],
      "metadata": {
        "id": "kzf1Q8VcpTmj",
        "colab": {
          "base_uri": "https://localhost:8080/"
        },
        "outputId": "c2b86329-79cf-4469-dc7f-d689f0eb203d"
      },
      "id": "kzf1Q8VcpTmj",
      "execution_count": 6,
      "outputs": [
        {
          "output_type": "stream",
          "name": "stderr",
          "text": [
            "[nltk_data] Downloading package stopwords to /root/nltk_data...\n",
            "[nltk_data]   Unzipping corpora/stopwords.zip.\n"
          ]
        }
      ]
    },
    {
      "cell_type": "code",
      "execution_count": 7,
      "id": "6f082c50",
      "metadata": {
        "id": "6f082c50",
        "colab": {
          "base_uri": "https://localhost:8080/"
        },
        "outputId": "cd605783-184d-4da2-c6c5-95d415a2c1fc"
      },
      "outputs": [
        {
          "output_type": "stream",
          "name": "stdout",
          "text": [
            "first write review shall constructively credic negative reviews book great unlike others believe plot th part quite original paolini great job keeping story interesting whole book also good job steady maturing eragon read reviews say paolini copied tolkien george lucas etc however agree one many rags riches characters stories mean copy others eregon resemble skywalker maybe little bit mean copied idea tolkien remember scholar lore expert celtic mythology like take far tolkien stole idea celts paolini stole idea celtic mythology tolkien tolkien expert would safe trust ideas one last thing sure everybody critizing taken literature course remember leatherstocking tales considered basis american heros including huck finn though twain would likely deny etc american novels stole cooper author leatherstocking tales summaryeragon original novel original make automatically bad story paolini combined ideas best traditional ideas create great novel\n",
            "[14, 256, 230, 2444, 28718, 70823, 1118, 320, 1, 11, 817, 113, 138, 82, 218, 79, 121, 255, 714, 11, 187, 1299, 5, 58, 178, 1, 19, 10, 187, 6520, 12551, 242, 2, 320, 61, 714, 5591, 392, 309, 7395, 308, 63, 573, 3, 15, 8888, 5491, 24, 78, 438, 354, 113, 24154, 7998, 13910, 324, 40, 145, 438, 5591, 249, 392, 399, 2557, 4677, 2350, 4498, 2800, 6, 85, 105, 392, 6275, 249, 16579, 714, 6275, 249, 4498, 2800, 392, 392, 2350, 7, 2428, 1319, 238, 3, 107, 117, 197, 1725, 70824, 420, 237, 164, 399, 25137, 721, 736, 1392, 153, 7747, 415, 14857, 6946, 68, 1937, 7, 903, 3877, 308, 153, 161, 6275, 6301, 31, 25137, 721, 70825, 255, 21, 255, 38, 7240, 162, 5, 714, 2606, 238, 37, 1328, 238, 637, 11, 21]\n"
          ]
        }
      ],
      "source": [
        "from tensorflow.keras.preprocessing.text import Tokenizer\n",
        "from tensorflow.keras.preprocessing.sequence import pad_sequences\n",
        "\n",
        "#Tokenize and pad the text data\n",
        "tokenizer = Tokenizer()\n",
        "tokenizer.fit_on_texts(X_train)\n",
        "\n",
        "X_train_sequences = tokenizer.texts_to_sequences(X_train)\n",
        "X_test_sequences = tokenizer.texts_to_sequences(X_test)\n",
        "\n",
        "print(X_train[0])\n",
        "print(X_train_sequences[0])\n",
        "\n",
        "max_len = max(len(seq) for seq in X_train_sequences)\n",
        "\n",
        "X_train_padded = pad_sequences(X_train_sequences, maxlen = max_len)\n",
        "X_test_padded = pad_sequences(X_test_sequences, maxlen = max_len)"
      ]
    },
    {
      "cell_type": "code",
      "execution_count": 8,
      "id": "b0e41b21",
      "metadata": {
        "id": "b0e41b21"
      },
      "outputs": [],
      "source": [
        "from sklearn.preprocessing import LabelEncoder\n",
        "\n",
        "# Encode labels ('POSITIVE' and 'NEGATIVE') to numerical values (1 and 0)\n",
        "label_encoder = LabelEncoder()\n",
        "y_train_encoded = label_encoder.fit_transform(y_train)\n",
        "y_test_encoded = label_encoder.transform(y_test)"
      ]
    },
    {
      "cell_type": "markdown",
      "id": "0b8c1f0b",
      "metadata": {
        "id": "0b8c1f0b"
      },
      "source": [
        "### Train the model"
      ]
    },
    {
      "cell_type": "code",
      "execution_count": 9,
      "id": "ac4ccdcd",
      "metadata": {
        "id": "ac4ccdcd",
        "colab": {
          "base_uri": "https://localhost:8080/"
        },
        "outputId": "bac225e9-46e5-41be-936e-66b6b4ca0f47"
      },
      "outputs": [
        {
          "output_type": "stream",
          "name": "stdout",
          "text": [
            "Epoch 1/15\n",
            "2400/2400 [==============================] - 384s 157ms/step - loss: 0.5357 - binary_accuracy: 0.8805 - val_loss: 0.2528 - val_binary_accuracy: 0.9045\n",
            "Epoch 2/15\n",
            "2400/2400 [==============================] - 264s 110ms/step - loss: 0.2237 - binary_accuracy: 0.9150 - val_loss: 0.2204 - val_binary_accuracy: 0.9143\n",
            "Epoch 3/15\n",
            "2400/2400 [==============================] - 249s 104ms/step - loss: 0.1848 - binary_accuracy: 0.9316 - val_loss: 0.2242 - val_binary_accuracy: 0.9201\n",
            "Epoch 4/15\n",
            "2400/2400 [==============================] - 246s 102ms/step - loss: 0.1620 - binary_accuracy: 0.9416 - val_loss: 0.2332 - val_binary_accuracy: 0.9201\n",
            "Epoch 5/15\n",
            "2400/2400 [==============================] - 241s 101ms/step - loss: 0.1450 - binary_accuracy: 0.9479 - val_loss: 0.2351 - val_binary_accuracy: 0.9206\n"
          ]
        }
      ],
      "source": [
        "import tensorflow as tf\n",
        "from tensorflow.keras import losses\n",
        "from tensorflow import keras\n",
        "from tensorflow.keras.layers import Embedding, LSTM, Dense, Dropout\n",
        "from tensorflow.keras import regularizers\n",
        "from tensorflow.keras.callbacks import EarlyStopping\n",
        "\n",
        "model = tf.keras.Sequential()\n",
        "\n",
        "# Layers for training\n",
        "model.add(Embedding(input_dim = len(tokenizer.word_index) + 1,\n",
        "                    output_dim = 100,\n",
        "                    input_length = max_len)) # Input layer\n",
        "model.add(Dropout(0.8)) # Dropout layer\n",
        "model.add(LSTM(units = 100,\n",
        "               return_sequences = False)) # LSTM layer\n",
        "model.add(Dense(units = 128,\n",
        "                activation = 'relu',\n",
        "                kernel_regularizer = regularizers.l2(0.1))) # L2 regularizer\n",
        "model.add(Dense(units = 1,\n",
        "                activation = 'sigmoid')) # Output layer\n",
        "\n",
        "model.compile(optimizer = tf.keras.optimizers.Adam(learning_rate = 0.001),\n",
        "              loss = losses.BinaryCrossentropy(from_logits=False),\n",
        "              metrics = tf.metrics.BinaryAccuracy(threshold=0.5))\n",
        "\n",
        "# Early stopping\n",
        "callback = EarlyStopping(monitor = 'val_loss',\n",
        "                         patience = 3,\n",
        "                         restore_best_weights = True)\n",
        "\n",
        "# Start to train the model\n",
        "history = model.fit(X_train_padded,\n",
        "                    y_train_encoded,\n",
        "                    epochs = 15,\n",
        "                    batch_size = 32,\n",
        "                    validation_split = 0.2,\n",
        "                    callbacks = [callback])"
      ]
    },
    {
      "cell_type": "markdown",
      "id": "d8c3bf98",
      "metadata": {
        "id": "d8c3bf98"
      },
      "source": [
        "### Plot the model's evaluation"
      ]
    },
    {
      "cell_type": "code",
      "execution_count": 10,
      "id": "01b7da0a",
      "metadata": {
        "id": "01b7da0a",
        "colab": {
          "base_uri": "https://localhost:8080/",
          "height": 472
        },
        "outputId": "668643d7-791a-4d9e-bc1a-574286da34b6"
      },
      "outputs": [
        {
          "output_type": "display_data",
          "data": {
            "text/plain": [
              "<Figure size 640x480 with 1 Axes>"
            ],
            "image/png": "[encoded data removed]"
          },
          "metadata": {}
        }
      ],
      "source": [
        "import matplotlib.pyplot as plt\n",
        "\n",
        "epochs = range(1, len(history.history['loss']) + 1)\n",
        "\n",
        "plt.plot(epochs, history.history['loss'], label = 'traning loss')\n",
        "plt.plot(epochs, history.history['val_loss'], label = 'validation loss')\n",
        "plt.title('Training and validation loss')\n",
        "plt.xlabel('Epochs')\n",
        "plt.ylabel('Loss')\n",
        "plt.legend()\n",
        "plt.ylim(0, 1)\n",
        "plt.show()"
      ]
    },
    {
      "cell_type": "code",
      "execution_count": 11,
      "id": "bf9a5a50",
      "metadata": {
        "id": "bf9a5a50",
        "colab": {
          "base_uri": "https://localhost:8080/",
          "height": 472
        },
        "outputId": "f786253f-89d3-4708-94fc-db871837af23"
      },
      "outputs": [
        {
          "output_type": "display_data",
          "data": {
            "text/plain": [
              "<Figure size 640x480 with 1 Axes>"
            ],
            "image/png": "[encoded data removed]"
          },
          "metadata": {}
        }
      ],
      "source": [
        "plt.plot(epochs, history.history['binary_accuracy'], label='Training acc')\n",
        "plt.plot(epochs, history.history['val_binary_accuracy'], label='Validation acc')\n",
        "plt.title('Training and validation accuracy')\n",
        "plt.xlabel('Epochs')\n",
        "plt.ylabel('Accuracy')\n",
        "plt.ylim(0, 1)\n",
        "plt.legend()\n",
        "plt.show()"
      ]
    },
    {
      "cell_type": "markdown",
      "id": "a3a49da4",
      "metadata": {
        "id": "a3a49da4"
      },
      "source": [
        "### Test"
      ]
    },
    {
      "cell_type": "code",
      "source": [
        "# Evaluate the model on the test set\n",
        "results = model.evaluate(X_test_padded, y_test_encoded)\n",
        "\n",
        "# Print the evaluation results\n",
        "print(\"Test Loss:\", results[0])\n",
        "print(\"Test Accuracy:\", results[1])"
      ],
      "metadata": {
        "colab": {
          "base_uri": "https://localhost:8080/"
        },
        "id": "iIpm0lkgZfJj",
        "outputId": "be072902-4f11-4dc0-a80f-4c2890c704a8"
      },
      "id": "iIpm0lkgZfJj",
      "execution_count": 12,
      "outputs": [
        {
          "output_type": "stream",
          "name": "stdout",
          "text": [
            "750/750 [==============================] - 26s 35ms/step - loss: 0.2204 - binary_accuracy: 0.9143\n",
            "Test Loss: 0.22043143212795258\n",
            "Test Accuracy: 0.9142500162124634\n"
          ]
        }
      ]
    },
    {
      "cell_type": "code",
      "execution_count": 20,
      "id": "02a5b30c",
      "metadata": {
        "id": "02a5b30c",
        "colab": {
          "base_uri": "https://localhost:8080/"
        },
        "outputId": "f37ff3f1-15b1-4073-d17c-179950057388"
      },
      "outputs": [
        {
          "output_type": "stream",
          "name": "stdout",
          "text": [
            "1/1 [==============================] - 0s 86ms/step\n",
            "['POSITIVE', 'NEGATIVE', 'POSITIVE', 'POSITIVE', 'POSITIVE', 'POSITIVE', 'NEGATIVE']\n"
          ]
        }
      ],
      "source": [
        "def convert(p):\n",
        "    if (p < 0.5): return 'NEGATIVE'\n",
        "    else: return 'POSITIVE'\n",
        "new_test = ['I would never recommend it to anyone, pretty much uncreative and not worth it',\n",
        "            'Bad horrible book, you should avoid it to not waste money on silly content',\n",
        "            'Not a good material overall, but acceptable',\n",
        "            'I enjoyed it a lot, i hope i see more similar books in the future!',\n",
        "            'Amazing book, i rated it 5 star !!',\n",
        "            'This book is a masterpiece!',\n",
        "            'What a waste of time']\n",
        "new_test_sequences = tokenizer.texts_to_sequences(new_test)\n",
        "new_test_padded = pad_sequences(new_test_sequences, maxlen=max_len)\n",
        "\n",
        "predictions = [convert(p) for p in model.predict(new_test_padded)]\n",
        "print(predictions)"
      ]
    }
  ],
  "metadata": {
    "kernelspec": {
      "display_name": "Python 3",
      "name": "python3"
    },
    "language_info": {
      "codemirror_mode": {
        "name": "ipython",
        "version": 3
      },
      "file_extension": ".py",
      "mimetype": "text/x-python",
      "name": "python",
      "nbconvert_exporter": "python",
      "pygments_lexer": "ipython3",
      "version": "3.9.18"
    },
    "colab": {
      "provenance": [],
      "gpuType": "T4",
      "include_colab_link": true
    },
    "accelerator": "GPU"
  },
  "nbformat": 4,
  "nbformat_minor": 5
}