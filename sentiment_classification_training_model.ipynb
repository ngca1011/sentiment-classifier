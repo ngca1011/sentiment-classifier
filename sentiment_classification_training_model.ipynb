{
  "cells": [
    {
      "cell_type": "markdown",
      "metadata": {
        "id": "view-in-github",
        "colab_type": "text"
      },
      "source": [
        "<a href=\"https://colab.research.google.com/github/ngca1011/sentiment-classifier/blob/main/sentiment_classification_training_model.ipynb\" target=\"_parent\"><img src=\"https://colab.research.google.com/assets/colab-badge.svg\" alt=\"Open In Colab\"/></a>"
      ]
    },
    {
      "cell_type": "code",
      "execution_count": 1,
      "id": "273773f7-eb78-4bad-9bf3-196a32417645",
      "metadata": {
        "id": "273773f7-eb78-4bad-9bf3-196a32417645"
      },
      "outputs": [],
      "source": [
        "class Review:\n",
        "    def __init__(self, text, score):\n",
        "        self.text = str(text)\n",
        "        self.score = score\n",
        "        self.sentiment = self.get_sentiment()\n",
        "\n",
        "    def get_sentiment(self):\n",
        "        if (self.score >= 3):\n",
        "            return \"POSITIVE\"\n",
        "        else:\n",
        "            return \"NEGATIVE\""
      ]
    },
    {
      "cell_type": "code",
      "source": [
        "from google.colab import drive\n",
        "drive.mount('/content/drive')"
      ],
      "metadata": {
        "id": "ntDOcF9DlUll",
        "outputId": "d2928e7f-87de-42ef-8ef3-701acd287021",
        "colab": {
          "base_uri": "https://localhost:8080/"
        }
      },
      "id": "ntDOcF9DlUll",
      "execution_count": 2,
      "outputs": [
        {
          "output_type": "stream",
          "name": "stdout",
          "text": [
            "Drive already mounted at /content/drive; to attempt to forcibly remount, call drive.mount(\"/content/drive\", force_remount=True).\n"
          ]
        }
      ]
    },
    {
      "cell_type": "markdown",
      "id": "671ec3bb",
      "metadata": {
        "id": "671ec3bb"
      },
      "source": [
        "### Extract data"
      ]
    },
    {
      "cell_type": "code",
      "execution_count": 3,
      "id": "7820084b-dfae-4a13-bd51-da782e7a3f04",
      "metadata": {
        "id": "7820084b-dfae-4a13-bd51-da782e7a3f04"
      },
      "outputs": [],
      "source": [
        "filename = \"/content/drive/MyDrive/Colab Notebooks/data/Books_rating.csv\"\n",
        "import pandas as pd\n",
        "df = pd.read_csv(filename, nrows = 80000)"
      ]
    },
    {
      "cell_type": "markdown",
      "source": [
        "### Cleansing data"
      ],
      "metadata": {
        "id": "Rtz47gAGl_pM"
      },
      "id": "Rtz47gAGl_pM"
    },
    {
      "cell_type": "code",
      "source": [
        "df[['review/text', 'review/score']].isnull().sum()\n",
        "df['review/text'].dropna()"
      ],
      "metadata": {
        "id": "W2Jzh1w1mC5T",
        "outputId": "9446870d-60a4-47a2-db4e-0e9e2bd80d96",
        "colab": {
          "base_uri": "https://localhost:8080/"
        }
      },
      "id": "W2Jzh1w1mC5T",
      "execution_count": 4,
      "outputs": [
        {
          "output_type": "execute_result",
          "data": {
            "text/plain": [
              "0        This is only for Julie Strain fans. It's a col...\n",
              "1        I don't care much for Dr. Seuss but after read...\n",
              "2        If people become the books they read and if \"t...\n",
              "3        Theodore Seuss Geisel (1904-1991), aka &quot;D...\n",
              "4        Philip Nel - Dr. Seuss: American IconThis is b...\n",
              "                               ...                        \n",
              "79995    The 'Grand Inquisitor ' is the central chapter...\n",
              "79996    I could not resist picking this book up to rer...\n",
              "79997    i rate good because i consider a good book to ...\n",
              "79998    I originally read this while taking a course o...\n",
              "79999    Fyodor D. is one of the greatest authors of al...\n",
              "Name: review/text, Length: 80000, dtype: object"
            ]
          },
          "metadata": {},
          "execution_count": 4
        }
      ]
    },
    {
      "cell_type": "markdown",
      "id": "9273df36-458d-4aec-8c4e-630ba74654ac",
      "metadata": {
        "id": "9273df36-458d-4aec-8c4e-630ba74654ac"
      },
      "source": [
        "### Train Test Split"
      ]
    },
    {
      "cell_type": "code",
      "execution_count": 5,
      "id": "3434840a-691c-4ef6-9f7e-a01ff279fb85",
      "metadata": {
        "id": "3434840a-691c-4ef6-9f7e-a01ff279fb85"
      },
      "outputs": [],
      "source": [
        "from sklearn.model_selection import train_test_split\n",
        "\n",
        "reviews = [Review(df.loc[i]['review/text'], df.loc[i]['review/score']) for i in range(len(df))]\n",
        "\n",
        "X = [x.text for x in reviews]\n",
        "y = [y.sentiment for y in reviews]\n",
        "\n",
        "X_train, X_test, y_train, y_test = train_test_split(X, y, test_size = 0.2, random_state = 2)"
      ]
    },
    {
      "cell_type": "markdown",
      "id": "ca82275d",
      "metadata": {
        "id": "ca82275d"
      },
      "source": [
        "### Tensorflow for neural network modeling"
      ]
    },
    {
      "cell_type": "markdown",
      "id": "6e2f212b",
      "metadata": {
        "id": "6e2f212b"
      },
      "source": [
        "### Text preprocessing"
      ]
    },
    {
      "cell_type": "code",
      "source": [
        "import re\n",
        "import nltk\n",
        "from nltk.corpus import stopwords\n",
        "\n",
        "nltk.download('stopwords')\n",
        "\n",
        "# https://stackoverflow.com/questions/66044999/remove-stopwords-in-tensorflow-extended\n",
        "def parse_text(text):\n",
        "    text = re.sub(\"[^a-zA-Z]\", ' ', text) # Remove punctuation and numbers\n",
        "\n",
        "    text = text.lower().split() # Lowercase and split\n",
        "\n",
        "    swords = set(stopwords.words(\"english\"))\n",
        "    text = [w for w in text if w not in swords] # Remove stop words\n",
        "\n",
        "    text = \" \".join(text)\n",
        "    return text\n",
        "\n",
        "X_train = [parse_text(text) for text in X_train]\n",
        "X_test = [parse_text(text) for text in X_test]"
      ],
      "metadata": {
        "id": "kzf1Q8VcpTmj",
        "colab": {
          "base_uri": "https://localhost:8080/"
        },
        "outputId": "bd99ac46-dcf1-41ed-f878-41d44174b873"
      },
      "id": "kzf1Q8VcpTmj",
      "execution_count": 6,
      "outputs": [
        {
          "output_type": "stream",
          "name": "stderr",
          "text": [
            "[nltk_data] Downloading package stopwords to /root/nltk_data...\n",
            "[nltk_data]   Package stopwords is already up-to-date!\n"
          ]
        }
      ]
    },
    {
      "cell_type": "code",
      "execution_count": 7,
      "id": "6f082c50",
      "metadata": {
        "id": "6f082c50",
        "colab": {
          "base_uri": "https://localhost:8080/"
        },
        "outputId": "68628ccc-e292-4623-820d-820f8947c7b0"
      },
      "outputs": [
        {
          "output_type": "stream",
          "name": "stdout",
          "text": [
            "series john carter enjoyed thuvia much great books science fiction\n",
            "[48, 249, 1136, 132, 8853, 18, 13, 8, 140, 90]\n"
          ]
        }
      ],
      "source": [
        "from tensorflow.keras.preprocessing.text import Tokenizer\n",
        "from tensorflow.keras.preprocessing.sequence import pad_sequences\n",
        "\n",
        "#Tokenize and pad the text data\n",
        "tokenizer = Tokenizer()\n",
        "tokenizer.fit_on_texts(X_train)\n",
        "\n",
        "X_train_sequences = tokenizer.texts_to_sequences(X_train)\n",
        "X_test_sequences = tokenizer.texts_to_sequences(X_test)\n",
        "\n",
        "print(X_train[0])\n",
        "print(X_train_sequences[0])\n",
        "\n",
        "max_len = max(len(seq) for seq in X_train_sequences)\n",
        "\n",
        "X_train_padded = pad_sequences(X_train_sequences, maxlen = max_len)\n",
        "X_test_padded = pad_sequences(X_test_sequences, maxlen = max_len)"
      ]
    },
    {
      "cell_type": "code",
      "execution_count": 8,
      "id": "b0e41b21",
      "metadata": {
        "id": "b0e41b21"
      },
      "outputs": [],
      "source": [
        "from sklearn.preprocessing import LabelEncoder\n",
        "\n",
        "# Encode labels ('POSITIVE' and 'NEGATIVE') to numerical values (0 and 1)\n",
        "label_encoder = LabelEncoder()\n",
        "y_train_encoded = label_encoder.fit_transform(y_train)\n",
        "y_test_encoded = label_encoder.transform(y_test)"
      ]
    },
    {
      "cell_type": "markdown",
      "id": "0b8c1f0b",
      "metadata": {
        "id": "0b8c1f0b"
      },
      "source": [
        "### Train the model"
      ]
    },
    {
      "cell_type": "code",
      "execution_count": 9,
      "id": "ac4ccdcd",
      "metadata": {
        "id": "ac4ccdcd",
        "colab": {
          "base_uri": "https://localhost:8080/"
        },
        "outputId": "5adf21c1-b78d-4dd0-93dd-8525f9e1b3d3"
      },
      "outputs": [
        {
          "output_type": "stream",
          "name": "stdout",
          "text": [
            "Epoch 1/15\n",
            "1600/1600 [==============================] - 286s 176ms/step - loss: 0.6045 - binary_accuracy: 0.8805 - val_loss: 0.2893 - val_binary_accuracy: 0.8788\n",
            "Epoch 2/15\n",
            "1600/1600 [==============================] - 189s 118ms/step - loss: 0.2320 - binary_accuracy: 0.9087 - val_loss: 0.2599 - val_binary_accuracy: 0.8904\n",
            "Epoch 3/15\n",
            "1600/1600 [==============================] - 163s 102ms/step - loss: 0.1744 - binary_accuracy: 0.9388 - val_loss: 0.2513 - val_binary_accuracy: 0.9127\n",
            "Epoch 4/15\n",
            "1600/1600 [==============================] - 173s 108ms/step - loss: 0.1362 - binary_accuracy: 0.9552 - val_loss: 0.2448 - val_binary_accuracy: 0.9103\n",
            "Epoch 5/15\n",
            "1600/1600 [==============================] - 166s 104ms/step - loss: 0.1091 - binary_accuracy: 0.9658 - val_loss: 0.3320 - val_binary_accuracy: 0.9098\n",
            "Epoch 6/15\n",
            "1600/1600 [==============================] - 161s 101ms/step - loss: 0.0862 - binary_accuracy: 0.9738 - val_loss: 0.3092 - val_binary_accuracy: 0.9010\n",
            "Epoch 7/15\n",
            "1600/1600 [==============================] - 161s 101ms/step - loss: 0.0713 - binary_accuracy: 0.9792 - val_loss: 0.2975 - val_binary_accuracy: 0.9014\n"
          ]
        }
      ],
      "source": [
        "import tensorflow as tf\n",
        "from tensorflow.keras import losses\n",
        "from tensorflow import keras\n",
        "from tensorflow.keras.layers import Embedding, LSTM, Dense, Dropout\n",
        "from tensorflow.keras import regularizers\n",
        "from tensorflow.keras.callbacks import EarlyStopping\n",
        "\n",
        "model = tf.keras.Sequential()\n",
        "\n",
        "# Layers for training\n",
        "model.add(Embedding(input_dim = len(tokenizer.word_index) + 1,\n",
        "                    output_dim = 100,\n",
        "                    input_length = max_len)) # Input layer\n",
        "model.add(Dropout(0.5)) # Dropout layer\n",
        "model.add(LSTM(units = 100,\n",
        "               return_sequences = False)) # LSTM layer\n",
        "model.add(Dense(units = 64,\n",
        "                activation = 'relu',\n",
        "                kernel_regularizer = regularizers.l2(0.1))) # L2 regularizer\n",
        "model.add(Dense(units = 1,\n",
        "                activation = 'sigmoid')) # Output layer\n",
        "\n",
        "model.compile(optimizer = tf.keras.optimizers.Adam(learning_rate = 0.001),\n",
        "              loss = losses.BinaryCrossentropy(from_logits=False),\n",
        "              metrics = tf.metrics.BinaryAccuracy(threshold=0.5))\n",
        "\n",
        "# Early stopping\n",
        "callback = EarlyStopping(monitor = 'val_loss',\n",
        "                         patience = 3,\n",
        "                         restore_best_weights = True)\n",
        "\n",
        "# Start to train the model\n",
        "history = model.fit(X_train_padded,\n",
        "                    y_train_encoded,\n",
        "                    epochs = 15,\n",
        "                    validation_split = 0.2,\n",
        "                    callbacks = [callback])"
      ]
    },
    {
      "cell_type": "markdown",
      "id": "d8c3bf98",
      "metadata": {
        "id": "d8c3bf98"
      },
      "source": [
        "### Plot the model's evaluation"
      ]
    },
    {
      "cell_type": "code",
      "execution_count": 13,
      "id": "01b7da0a",
      "metadata": {
        "id": "01b7da0a",
        "colab": {
          "base_uri": "https://localhost:8080/",
          "height": 472
        },
        "outputId": "e0950bba-b5e2-475b-8fe2-5164176cc0ef"
      },
      "outputs": [
        {
          "output_type": "display_data",
          "data": {
            "text/plain": [
              "<Figure size 640x480 with 1 Axes>"
            ],
            "image/png": "[encoded data removed]"
          },
          "metadata": {}
        }
      ],
      "source": [
        "import matplotlib.pyplot as plt\n",
        "\n",
        "epochs = range(1, len(history.history['loss']) + 1)\n",
        "\n",
        "plt.plot(epochs, history.history['loss'], label = 'traning loss')\n",
        "plt.plot(epochs, history.history['val_loss'], label = 'validation loss')\n",
        "plt.title('Training and validation loss')\n",
        "plt.xlabel('Epochs')\n",
        "plt.ylabel('Loss')\n",
        "plt.legend()\n",
        "plt.ylim(0, 1)\n",
        "plt.show()"
      ]
    },
    {
      "cell_type": "code",
      "execution_count": 18,
      "id": "bf9a5a50",
      "metadata": {
        "id": "bf9a5a50",
        "colab": {
          "base_uri": "https://localhost:8080/",
          "height": 472
        },
        "outputId": "d7e9a771-25c9-45c7-e319-e0064d257ef2"
      },
      "outputs": [
        {
          "output_type": "display_data",
          "data": {
            "text/plain": [
              "<Figure size 640x480 with 1 Axes>"
            ],
            "image/png": "[encoded data removed]"
          },
          "metadata": {}
        }
      ],
      "source": [
        "plt.plot(epochs, history.history['binary_accuracy'], label='Training acc')\n",
        "plt.plot(epochs, history.history['val_binary_accuracy'], label='Validation acc')\n",
        "plt.title('Training and validation accuracy')\n",
        "plt.xlabel('Epochs')\n",
        "plt.ylabel('Accuracy')\n",
        "plt.ylim(0, 1)\n",
        "plt.legend()\n",
        "plt.show()"
      ]
    },
    {
      "cell_type": "markdown",
      "id": "a3a49da4",
      "metadata": {
        "id": "a3a49da4"
      },
      "source": [
        "### Test"
      ]
    },
    {
      "cell_type": "code",
      "source": [
        "# Evaluate the model on the test set\n",
        "results = model.evaluate(X_test_padded, y_test_encoded)\n",
        "\n",
        "# Print the evaluation results\n",
        "print(\"Test Loss:\", results[0])\n",
        "print(\"Test Accuracy:\", results[1])"
      ],
      "metadata": {
        "colab": {
          "base_uri": "https://localhost:8080/"
        },
        "id": "iIpm0lkgZfJj",
        "outputId": "f8e027c9-5f87-4cd1-970d-ef2ad121e8a4"
      },
      "id": "iIpm0lkgZfJj",
      "execution_count": 19,
      "outputs": [
        {
          "output_type": "stream",
          "name": "stdout",
          "text": [
            "500/500 [==============================] - 16s 33ms/step - loss: 0.2330 - binary_accuracy: 0.9162\n",
            "Test Loss: 0.233024463057518\n",
            "Test Accuracy: 0.9162499904632568\n"
          ]
        }
      ]
    },
    {
      "cell_type": "code",
      "execution_count": 20,
      "id": "02a5b30c",
      "metadata": {
        "id": "02a5b30c",
        "colab": {
          "base_uri": "https://localhost:8080/"
        },
        "outputId": "5a73febd-6eba-4ae4-9bfb-603784b05987"
      },
      "outputs": [
        {
          "output_type": "stream",
          "name": "stdout",
          "text": [
            "1/1 [==============================] - 0s 55ms/step\n",
            "['NEGATIVE', 'NEGATIVE', 'NEGATIVE', 'POSITIVE', 'POSITIVE', 'POSITIVE', 'NEGATIVE']\n"
          ]
        }
      ],
      "source": [
        "def convert(p):\n",
        "    if (p < 0.5): return 'NEGATIVE'\n",
        "    else: return 'POSITIVE'\n",
        "new_test = ['I hate this book', 'Bad horrible', 'Trash book', 'I enjoyed it', 'Amazing book', 'This book is a masterpiece', 'What a waste of time']\n",
        "new_test_sequences = tokenizer.texts_to_sequences(new_test)\n",
        "new_test_padded = pad_sequences(new_test_sequences, maxlen=max_len)\n",
        "\n",
        "predictions = [convert(p) for p in model.predict(new_test_padded)]\n",
        "print(predictions)"
      ]
    }
  ],
  "metadata": {
    "kernelspec": {
      "display_name": "Python 3",
      "name": "python3"
    },
    "language_info": {
      "codemirror_mode": {
        "name": "ipython",
        "version": 3
      },
      "file_extension": ".py",
      "mimetype": "text/x-python",
      "name": "python",
      "nbconvert_exporter": "python",
      "pygments_lexer": "ipython3",
      "version": "3.9.18"
    },
    "colab": {
      "provenance": [],
      "gpuType": "T4",
      "include_colab_link": true
    },
    "accelerator": "GPU"
  },
  "nbformat": 4,
  "nbformat_minor": 5
}